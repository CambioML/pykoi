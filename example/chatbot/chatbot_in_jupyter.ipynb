{
 "cells": [
  {
   "cell_type": "code",
   "execution_count": null,
   "id": "61b49dc2",
   "metadata": {},
   "outputs": [],
   "source": [
    "%reload_ext autoreload\n",
    "%autoreload 2\n",
    "\n",
    "import os\n",
    "import sys\n",
    "\n",
    "current_directory = os.getcwd()\n",
    "sys.path.append(\".\")\n",
    "sys.path.append(\"..\")\n",
    "sys.path.append(\"../..\")"
   ]
  },
  {
   "cell_type": "code",
   "execution_count": null,
   "id": "6a907bb3",
   "metadata": {},
   "outputs": [],
   "source": [
    "from pykoi import Application\n",
    "from pykoi.chat import ModelFactory\n",
    "from pykoi.chat import QuestionAnswerDatabase\n",
    "from pykoi.component import Chatbot"
   ]
  },
  {
   "cell_type": "code",
   "execution_count": null,
   "id": "15c2004b",
   "metadata": {},
   "outputs": [],
   "source": [
    "api_key = \"\"\n",
    "\n",
    "# Creating an OpenAI model\n",
    "model = ModelFactory.create_model(model_source=\"openai\", api_key=api_key)"
   ]
  },
  {
   "cell_type": "code",
   "execution_count": null,
   "id": "0c07c943",
   "metadata": {},
   "outputs": [],
   "source": [
    "database = QuestionAnswerDatabase(debug=True)\n",
    "chatbot = Chatbot(model=model, feedback=\"vote\")\n",
    "\n",
    "app = Application(debug=False, share=False)\n",
    "app.add_component(chatbot)"
   ]
  },
  {
   "cell_type": "code",
   "execution_count": null,
   "id": "ae7bbef3",
   "metadata": {},
   "outputs": [],
   "source": [
    "# import nest_asyncio\n",
    "app.display()"
   ]
  }
 ],
 "metadata": {
  "kernelspec": {
   "display_name": "Python 3 (ipykernel)",
   "language": "python",
   "name": "python3"
  },
  "language_info": {
   "codemirror_mode": {
    "name": "ipython",
    "version": 3
   },
   "file_extension": ".py",
   "mimetype": "text/x-python",
   "name": "python",
   "nbconvert_exporter": "python",
   "pygments_lexer": "ipython3",
   "version": "3.10.12"
  }
 },
 "nbformat": 4,
 "nbformat_minor": 5
}
