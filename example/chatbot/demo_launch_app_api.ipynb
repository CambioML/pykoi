{
 "cells": [
  {
   "cell_type": "code",
   "execution_count": null,
   "metadata": {},
   "outputs": [],
   "source": [
    "# %reload_ext autoreload\n",
    "# %autoreload 2\n",
    "\n",
    "# import os\n",
    "# import sys\n",
    "\n",
    "# # Add the root folder to the module search path\n",
    "# # Get the current directory\n",
    "# current_directory = os.getcwd()\n",
    "\n",
    "# # Move two levels up (go to the parent directory of the parent directory)\n",
    "# two_levels_up_directory = os.path.dirname(os.path.dirname(current_directory))\n",
    "\n",
    "# print(two_levels_up_directory)\n",
    "\n",
    "# sys.path.append(two_levels_up_directory)"
   ]
  },
  {
   "cell_type": "code",
   "execution_count": null,
   "metadata": {},
   "outputs": [],
   "source": [
    "## pip install ipykernel\n",
    "from pykoi import Application\n",
    "from pykoi.chat import ModelFactory\n",
    "from pykoi.chat import QuestionAnswerDatabase\n",
    "from pykoi.component import Chatbot, Dashboard"
   ]
  },
  {
   "cell_type": "markdown",
   "metadata": {},
   "source": [
    "### Creating an OpenAI model (requires an OpenAI API key)"
   ]
  },
  {
   "cell_type": "code",
   "execution_count": null,
   "metadata": {},
   "outputs": [],
   "source": [
    "# enter openai api key here\n",
    "api_key = \"\""
   ]
  },
  {
   "cell_type": "code",
   "execution_count": null,
   "metadata": {},
   "outputs": [],
   "source": [
    "model = ModelFactory.create_model(\n",
    "    model_source=\"openai\",\n",
    "    api_key=api_key)"
   ]
  },
  {
   "cell_type": "markdown",
   "metadata": {},
   "source": [
    "### Define a database, model and chatbot\n",
    "\n",
    "To a launch a pykoi App, you only need to customize 3 components: a model, a database and a chatbot. Let's try it out!"
   ]
  },
  {
   "cell_type": "code",
   "execution_count": null,
   "metadata": {},
   "outputs": [],
   "source": [
    "qa_database = QuestionAnswerDatabase()"
   ]
  },
  {
   "cell_type": "code",
   "execution_count": null,
   "metadata": {},
   "outputs": [],
   "source": [
    "chatbot = Chatbot(model=model, feedback=\"vote\")"
   ]
  },
  {
   "cell_type": "markdown",
   "metadata": {},
   "source": [
    "### Launch the App\n",
    "\n",
    "Now we can launch the chatbot using the model and database. Once you run the below line, you will see a Tunnel link which ends with `ngrok-free.app`. Click this link and you can see the below interface:\n",
    "\n",
    "<p align=\"center\">\n",
    "    <img src=\"../image/chatbot_vote_trim_4x_crop.gif\" width=\"75%\" height=\"75%\" />\n",
    "</p>\n",
    "\n",
    "\n",
    "\n",
    "You may need to set a ngrok token (one time) by uncomment the below line, add your [personal ngrok token](https://dashboard.ngrok.com/get-started/your-authtoken) and run this `ngrok config` line."
   ]
  },
  {
   "cell_type": "code",
   "execution_count": null,
   "metadata": {},
   "outputs": [],
   "source": [
    "# !ngrok config add-authtoken xxx"
   ]
  },
  {
   "cell_type": "code",
   "execution_count": null,
   "metadata": {},
   "outputs": [],
   "source": [
    "import nest_asyncio\n",
    "nest_asyncio.apply()"
   ]
  },
  {
   "cell_type": "code",
   "execution_count": null,
   "metadata": {},
   "outputs": [],
   "source": [
    "app = Application(debug=False, share=True, username=\"rachel\", password=\"1234\")\n",
    "app.add_component(chatbot)\n",
    "app.run()"
   ]
  },
  {
   "cell_type": "markdown",
   "metadata": {},
   "source": [
    "### Visualize your data\n",
    "\n",
    "Once you collect enough data via the chatbot app above, you can visualize your data via the dashboard."
   ]
  },
  {
   "cell_type": "code",
   "execution_count": null,
   "metadata": {},
   "outputs": [],
   "source": [
    "qa_dashboard = Dashboard(database=qa_database)"
   ]
  },
  {
   "cell_type": "code",
   "execution_count": null,
   "metadata": {},
   "outputs": [
    {
     "name": "stderr",
     "output_type": "stream",
     "text": [
      "t=2023-09-12T01:18:52-0700 lvl=eror msg=\"session closed, starting reconnect loop\" obj=tunnels.session obj=csess id=51b0fe54dcb1 err=\"read tcp 192.168.1.14:51858->3.134.73.173:443: read: connection reset by peer\"\n",
      "t=2023-09-12T01:32:52-0700 lvl=eror msg=\"session closed, starting reconnect loop\" obj=tunnels.session obj=csess id=51b0fe54dcb1 err=\"read tcp 192.168.1.14:53684->3.136.132.147:443: read: connection reset by peer\"\n",
      "t=2023-09-12T01:32:57-0700 lvl=eror msg=\"heartbeat timeout, terminating session\" obj=tunnels.session obj=csess id=cc480ddd12ca clientid=0e9d5d409373b0929f4cc030441823a8\n",
      "t=2023-09-12T01:48:35-0700 lvl=eror msg=\"session closed, starting reconnect loop\" obj=tunnels.session obj=csess id=51b0fe54dcb1 err=\"read tcp 192.168.1.14:53813->3.12.62.205:443: read: connection reset by peer\"\n",
      "t=2023-09-12T02:04:07-0700 lvl=eror msg=\"heartbeat timeout, terminating session\" obj=tunnels.session obj=csess id=04762d28f116 clientid=0e9d5d409373b0929f4cc030441823a8\n",
      "t=2023-09-12T02:21:55-0700 lvl=eror msg=\"session closed, starting reconnect loop\" obj=tunnels.session obj=csess id=51b0fe54dcb1 err=\"read tcp 192.168.1.14:53905->3.136.132.147:443: read: connection reset by peer\"\n",
      "t=2023-09-12T02:39:34-0700 lvl=eror msg=\"heartbeat timeout, terminating session\" obj=tunnels.session obj=csess id=15d86cc263ed clientid=0e9d5d409373b0929f4cc030441823a8\n",
      "t=2023-09-12T02:57:35-0700 lvl=eror msg=\"session closed, starting reconnect loop\" obj=tunnels.session obj=csess id=51b0fe54dcb1 err=\"read tcp 192.168.1.14:54079->3.12.62.205:443: read: connection reset by peer\"\n",
      "t=2023-09-12T03:15:13-0700 lvl=eror msg=\"heartbeat timeout, terminating session\" obj=tunnels.session obj=csess id=de851650ca25 clientid=0e9d5d409373b0929f4cc030441823a8\n",
      "t=2023-09-12T03:30:48-0700 lvl=eror msg=\"session closed, starting reconnect loop\" obj=tunnels.session obj=csess id=51b0fe54dcb1 err=\"read tcp 192.168.1.14:54292->3.134.73.173:443: read: connection reset by peer\"\n",
      "t=2023-09-12T03:30:52-0700 lvl=eror msg=\"heartbeat timeout, terminating session\" obj=tunnels.session obj=csess id=ee72220bc8ea clientid=0e9d5d409373b0929f4cc030441823a8\n",
      "t=2023-09-12T03:48:52-0700 lvl=eror msg=\"session closed, starting reconnect loop\" obj=tunnels.session obj=csess id=51b0fe54dcb1 err=\"read tcp 192.168.1.14:54445->3.133.228.214:443: read: connection reset by peer\"\n",
      "t=2023-09-12T04:05:34-0700 lvl=eror msg=\"heartbeat timeout, terminating session\" obj=tunnels.session obj=csess id=6e8c1b39a7ed clientid=0e9d5d409373b0929f4cc030441823a8\n",
      "t=2023-09-12T04:07:35-0700 lvl=eror msg=\"session closed, starting reconnect loop\" obj=tunnels.session obj=csess id=51b0fe54dcb1 err=\"read tcp 192.168.1.14:54579->3.12.62.205:443: read: connection reset by peer\"\n",
      "t=2023-09-12T04:24:16-0700 lvl=eror msg=\"heartbeat timeout, terminating session\" obj=tunnels.session obj=csess id=1635c9fd0a95 clientid=0e9d5d409373b0929f4cc030441823a8\n",
      "t=2023-09-12T04:40:32-0700 lvl=eror msg=\"session closed, starting reconnect loop\" obj=tunnels.session obj=csess id=51b0fe54dcb1 err=\"read tcp 192.168.1.14:54645->3.16.250.205:443: read: connection reset by peer\"\n",
      "t=2023-09-12T04:40:36-0700 lvl=eror msg=\"heartbeat timeout, terminating session\" obj=tunnels.session obj=csess id=7098a9514ade clientid=0e9d5d409373b0929f4cc030441823a8\n",
      "t=2023-09-12T04:57:38-0700 lvl=eror msg=\"session closed, starting reconnect loop\" obj=tunnels.session obj=csess id=51b0fe54dcb1 err=\"read tcp 192.168.1.14:54759->3.12.62.205:443: read: connection reset by peer\"\n",
      "t=2023-09-12T05:12:59-0700 lvl=eror msg=\"heartbeat timeout, terminating session\" obj=tunnels.session obj=csess id=17cd2e176a93 clientid=0e9d5d409373b0929f4cc030441823a8\n",
      "t=2023-09-12T05:28:08-0700 lvl=eror msg=\"session closed, starting reconnect loop\" obj=tunnels.session obj=csess id=51b0fe54dcb1 err=\"read tcp 192.168.1.14:54905->3.136.132.147:443: read: connection reset by peer\"\n",
      "t=2023-09-12T05:44:11-0700 lvl=eror msg=\"heartbeat timeout, terminating session\" obj=tunnels.session obj=csess id=c1f9867672ff clientid=0e9d5d409373b0929f4cc030441823a8\n",
      "t=2023-09-12T06:01:24-0700 lvl=eror msg=\"session closed, starting reconnect loop\" obj=tunnels.session obj=csess id=51b0fe54dcb1 err=\"read tcp 192.168.1.14:55045->3.133.228.214:443: read: connection reset by peer\"\n",
      "t=2023-09-12T06:01:28-0700 lvl=eror msg=\"heartbeat timeout, terminating session\" obj=tunnels.session obj=csess id=d1b0adf825f4 clientid=0e9d5d409373b0929f4cc030441823a8\n",
      "t=2023-09-12T06:17:57-0700 lvl=eror msg=\"session closed, starting reconnect loop\" obj=tunnels.session obj=csess id=51b0fe54dcb1 err=\"read tcp 192.168.1.14:55197->3.136.132.147:443: read: connection reset by peer\"\n",
      "t=2023-09-12T06:33:59-0700 lvl=eror msg=\"heartbeat timeout, terminating session\" obj=tunnels.session obj=csess id=045eb1bdd071 clientid=0e9d5d409373b0929f4cc030441823a8\n",
      "t=2023-09-12T06:51:45-0700 lvl=eror msg=\"session closed, starting reconnect loop\" obj=tunnels.session obj=csess id=51b0fe54dcb1 err=\"read tcp 192.168.1.14:55305->3.133.228.214:443: read: connection reset by peer\"\n",
      "t=2023-09-12T07:08:47-0700 lvl=eror msg=\"heartbeat timeout, terminating session\" obj=tunnels.session obj=csess id=ef02b407f58f clientid=0e9d5d409373b0929f4cc030441823a8\n",
      "t=2023-09-12T07:26:42-0700 lvl=eror msg=\"session closed, starting reconnect loop\" obj=tunnels.session obj=csess id=51b0fe54dcb1 err=\"read tcp 192.168.1.14:55453->3.136.132.147:443: read: connection reset by peer\"\n",
      "t=2023-09-12T07:26:46-0700 lvl=eror msg=\"heartbeat timeout, terminating session\" obj=tunnels.session obj=csess id=0ebf98c1b8d9 clientid=0e9d5d409373b0929f4cc030441823a8\n",
      "t=2023-09-12T07:42:47-0700 lvl=eror msg=\"session closed, starting reconnect loop\" obj=tunnels.session obj=csess id=51b0fe54dcb1 err=\"read tcp 192.168.1.14:55596->3.136.132.147:443: read: connection reset by peer\"\n",
      "t=2023-09-12T07:59:51-0700 lvl=eror msg=\"failed to reconnect session\" obj=tunnels.session obj=csess id=51b0fe54dcb1 err=\"failed to send authentication request: read tcp 192.168.1.14:55706->3.133.228.214:443: read: connection reset by peer\"\n",
      "t=2023-09-12T07:59:54-0700 lvl=eror msg=\"heartbeat timeout, terminating session\" obj=tunnels.session obj=csess id=9a7d09cfe70f clientid=0e9d5d409373b0929f4cc030441823a8\n",
      "t=2023-09-12T08:15:13-0700 lvl=eror msg=\"session closed, starting reconnect loop\" obj=tunnels.session obj=csess id=51b0fe54dcb1 err=\"read tcp 192.168.1.14:55753->3.20.27.198:443: read: connection reset by peer\"\n",
      "t=2023-09-12T08:30:30-0700 lvl=eror msg=\"heartbeat timeout, terminating session\" obj=tunnels.session obj=csess id=4193bcab5d65 clientid=0e9d5d409373b0929f4cc030441823a8\n",
      "t=2023-09-12T08:41:31-0700 lvl=eror msg=\"failed to reconnect session\" obj=tunnels.session obj=csess id=51b0fe54dcb1 err=\"session closed\"\n",
      "t=2023-09-12T08:41:35-0700 lvl=eror msg=\"heartbeat timeout, terminating session\" obj=tunnels.session obj=csess id=68d49f4de50a clientid=0e9d5d409373b0929f4cc030441823a8\n",
      "t=2023-09-12T08:53:46-0700 lvl=eror msg=\"session closed, starting reconnect loop\" obj=tunnels.session obj=csess id=51b0fe54dcb1 err=\"read tcp 192.168.1.14:55974->3.12.62.205:443: read: connection reset by peer\"\n",
      "t=2023-09-12T09:13:38-0700 lvl=eror msg=\"heartbeat timeout, terminating session\" obj=tunnels.session obj=csess id=ca4ad0efac68 clientid=0e9d5d409373b0929f4cc030441823a8\n",
      "t=2023-09-12T09:29:33-0700 lvl=eror msg=\"heartbeat timeout, terminating session\" obj=tunnels.session obj=csess id=27ed3a1045ee clientid=0e9d5d409373b0929f4cc030441823a8\n",
      "t=2023-09-12T09:29:33-0700 lvl=eror msg=\"session closed, starting reconnect loop\" obj=tunnels.session obj=csess id=51b0fe54dcb1 err=\"session closed\"\n",
      "t=2023-09-12T09:58:35-0700 lvl=eror msg=\"session closed, starting reconnect loop\" obj=tunnels.session obj=csess id=51b0fe54dcb1 err=\"read tcp 192.168.1.14:56247->3.16.250.205:443: read: connection reset by peer\"\n",
      "t=2023-09-12T10:16:18-0700 lvl=eror msg=\"session closed, starting reconnect loop\" obj=tunnels.session obj=csess id=51b0fe54dcb1 err=\"read tcp 192.168.1.14:56362->3.134.73.173:443: read: connection reset by peer\"\n",
      "t=2023-09-12T10:32:26-0700 lvl=eror msg=\"heartbeat timeout, terminating session\" obj=tunnels.session obj=csess id=40e8f70cb5f3 clientid=0e9d5d409373b0929f4cc030441823a8\n",
      "t=2023-09-12T10:49:11-0700 lvl=eror msg=\"session closed, starting reconnect loop\" obj=tunnels.session obj=csess id=51b0fe54dcb1 err=\"read tcp 192.168.1.14:56444->3.12.62.205:443: read: connection reset by peer\"\n",
      "t=2023-09-12T11:05:27-0700 lvl=eror msg=\"heartbeat timeout, terminating session\" obj=tunnels.session obj=csess id=99a50827acf3 clientid=0e9d5d409373b0929f4cc030441823a8\n",
      "t=2023-09-12T11:21:38-0700 lvl=eror msg=\"session closed, starting reconnect loop\" obj=tunnels.session obj=csess id=51b0fe54dcb1 err=\"read tcp 192.168.1.14:56566->3.136.132.147:443: read: connection reset by peer\"\n",
      "t=2023-09-12T11:21:42-0700 lvl=eror msg=\"heartbeat timeout, terminating session\" obj=tunnels.session obj=csess id=41878b24a2fb clientid=0e9d5d409373b0929f4cc030441823a8\n",
      "t=2023-09-12T11:38:57-0700 lvl=eror msg=\"session closed, starting reconnect loop\" obj=tunnels.session obj=csess id=51b0fe54dcb1 err=\"read tcp 192.168.1.14:56777->3.134.73.173:443: read: connection reset by peer\"\n",
      "t=2023-09-12T11:56:52-0700 lvl=eror msg=\"session closed, starting reconnect loop\" obj=tunnels.session obj=csess id=51b0fe54dcb1 err=\"read tcp 192.168.1.14:56888->3.136.132.147:443: read: connection reset by peer\"\n",
      "t=2023-09-12T11:56:54-0700 lvl=eror msg=\"heartbeat timeout, terminating session\" obj=tunnels.session obj=csess id=f39f77e83e55 clientid=0e9d5d409373b0929f4cc030441823a8\n",
      "t=2023-09-12T12:14:16-0700 lvl=eror msg=\"session closed, starting reconnect loop\" obj=tunnels.session obj=csess id=51b0fe54dcb1 err=\"read tcp 192.168.1.14:56940->3.16.250.205:443: read: connection reset by peer\"\n",
      "t=2023-09-12T12:31:34-0700 lvl=eror msg=\"heartbeat timeout, terminating session\" obj=tunnels.session obj=csess id=1194c26a755c clientid=0e9d5d409373b0929f4cc030441823a8\n",
      "t=2023-09-12T12:46:44-0700 lvl=eror msg=\"session closed, starting reconnect loop\" obj=tunnels.session obj=csess id=51b0fe54dcb1 err=\"read tcp 192.168.1.14:57062->3.12.62.205:443: read: connection reset by peer\"\n",
      "t=2023-09-12T13:00:58-0700 lvl=eror msg=\"heartbeat timeout, terminating session\" obj=tunnels.session obj=csess id=45431debbd46 clientid=0e9d5d409373b0929f4cc030441823a8\n",
      "t=2023-09-12T13:00:59-0700 lvl=eror msg=\"heartbeat timeout, terminating session\" obj=tunnels.session obj=csess id=4ea8efaf157c clientid=0e9d5d409373b0929f4cc030441823a8\n",
      "t=2023-09-12T13:01:05-0700 lvl=eror msg=\"session closed, starting reconnect loop\" obj=tunnels.session obj=csess id=51b0fe54dcb1 err=\"read tcp 192.168.1.14:57212->3.20.27.198:443: read: connection reset by peer\"\n",
      "t=2023-09-12T13:05:13-0700 lvl=eror msg=\"heartbeat timeout, terminating session\" obj=tunnels.session obj=csess id=1fa447c82069 clientid=0e9d5d409373b0929f4cc030441823a8\n",
      "t=2023-09-12T13:23:09-0700 lvl=eror msg=\"heartbeat timeout, terminating session\" obj=tunnels.session obj=csess id=0bd50258b330 clientid=0e9d5d409373b0929f4cc030441823a8\n",
      "t=2023-09-12T13:57:11-0700 lvl=eror msg=\"heartbeat timeout, terminating session\" obj=tunnels.session obj=csess id=2d8d7f46d1b3 clientid=0e9d5d409373b0929f4cc030441823a8\n",
      "t=2023-09-12T13:57:11-0700 lvl=eror msg=\"session closed, starting reconnect loop\" obj=tunnels.session obj=csess id=51b0fe54dcb1 err=\"session closed\"\n",
      "t=2023-09-12T14:32:23-0700 lvl=eror msg=\"session closed, starting reconnect loop\" obj=tunnels.session obj=csess id=51b0fe54dcb1 err=\"read tcp 192.168.1.14:57513->3.12.62.205:443: read: connection reset by peer\"\n",
      "t=2023-09-12T14:47:07-0700 lvl=eror msg=\"session closed, starting reconnect loop\" obj=tunnels.session obj=csess id=51b0fe54dcb1 err=\"read tcp 192.168.1.14:57606->3.16.250.205:443: read: connection reset by peer\"\n",
      "t=2023-09-12T15:05:07-0700 lvl=eror msg=\"heartbeat timeout, terminating session\" obj=tunnels.session obj=csess id=6d1d2a156588 clientid=0e9d5d409373b0929f4cc030441823a8\n",
      "t=2023-09-12T15:21:19-0700 lvl=eror msg=\"session closed, starting reconnect loop\" obj=tunnels.session obj=csess id=51b0fe54dcb1 err=\"read tcp 192.168.1.14:57717->3.12.62.205:443: read: connection reset by peer\"\n",
      "t=2023-09-12T15:21:23-0700 lvl=eror msg=\"heartbeat timeout, terminating session\" obj=tunnels.session obj=csess id=f31d2ae7e439 clientid=0e9d5d409373b0929f4cc030441823a8\n",
      "t=2023-09-12T15:32:55-0700 lvl=eror msg=\"session closed, starting reconnect loop\" obj=tunnels.session obj=csess id=51b0fe54dcb1 err=\"read tcp 192.168.1.14:57847->3.12.62.205:443: read: connection reset by peer\"\n",
      "t=2023-09-12T15:33:01-0700 lvl=eror msg=\"heartbeat timeout, terminating session\" obj=tunnels.session obj=csess id=e9d47c352d0a clientid=0e9d5d409373b0929f4cc030441823a8\n",
      "t=2023-09-12T15:33:18-0700 lvl=eror msg=\"heartbeat timeout, terminating session\" obj=tunnels.session obj=csess id=f725fd685f71 clientid=0e9d5d409373b0929f4cc030441823a8\n",
      "t=2023-09-12T15:43:14-0700 lvl=eror msg=\"heartbeat timeout, terminating session\" obj=tunnels.session obj=csess id=35ca76001e49 clientid=0e9d5d409373b0929f4cc030441823a8\n",
      "t=2023-09-12T15:43:14-0700 lvl=eror msg=\"session closed, starting reconnect loop\" obj=tunnels.session obj=csess id=51b0fe54dcb1 err=\"session closed\"\n",
      "t=2023-09-12T16:17:01-0700 lvl=eror msg=\"session closed, starting reconnect loop\" obj=tunnels.session obj=csess id=51b0fe54dcb1 err=\"read tcp 192.168.1.14:58013->3.20.27.198:443: read: connection reset by peer\"\n",
      "t=2023-09-12T16:49:30-0700 lvl=eror msg=\"session closed, starting reconnect loop\" obj=tunnels.session obj=csess id=51b0fe54dcb1 err=\"read tcp 192.168.1.14:58149->3.133.228.214:443: read: connection reset by peer\"\n",
      "t=2023-09-12T17:00:22-0700 lvl=eror msg=\"heartbeat timeout, terminating session\" obj=tunnels.session obj=csess id=15d8f761b1a0 clientid=0e9d5d409373b0929f4cc030441823a8\n",
      "t=2023-09-12T17:00:33-0700 lvl=eror msg=\"heartbeat timeout, terminating session\" obj=tunnels.session obj=csess id=a633c3aab1c2 clientid=0e9d5d409373b0929f4cc030441823a8\n",
      "t=2023-09-12T17:06:47-0700 lvl=eror msg=\"heartbeat timeout, terminating session\" obj=tunnels.session obj=csess id=844f0cac015e clientid=0e9d5d409373b0929f4cc030441823a8\n",
      "t=2023-09-12T17:06:47-0700 lvl=eror msg=\"session closed, starting reconnect loop\" obj=tunnels.session obj=csess id=51b0fe54dcb1 err=\"session closed\"\n",
      "t=2023-09-12T17:06:47-0700 lvl=eror msg=\"failed to reconnect session\" obj=tunnels.session obj=csess id=51b0fe54dcb1 err=\"failed to dial ngrok server with address \\\"tunnel.us.ngrok.com:443\\\": dial tcp: lookup tunnel.us.ngrok.com: no such host\"\n",
      "t=2023-09-12T17:06:48-0700 lvl=eror msg=\"failed to reconnect session\" obj=tunnels.session obj=csess id=51b0fe54dcb1 err=\"failed to dial ngrok server with address \\\"tunnel.us.ngrok.com:443\\\": dial tcp: lookup tunnel.us.ngrok.com: no such host\"\n",
      "t=2023-09-12T17:06:49-0700 lvl=eror msg=\"failed to reconnect session\" obj=tunnels.session obj=csess id=51b0fe54dcb1 err=\"failed to dial ngrok server with address \\\"tunnel.us.ngrok.com:443\\\": dial tcp: lookup tunnel.us.ngrok.com: no such host\"\n",
      "t=2023-09-12T17:06:51-0700 lvl=eror msg=\"failed to reconnect session\" obj=tunnels.session obj=csess id=51b0fe54dcb1 err=\"failed to dial ngrok server with address \\\"tunnel.us.ngrok.com:443\\\": dial tcp: lookup tunnel.us.ngrok.com: no such host\"\n",
      "t=2023-09-12T17:06:55-0700 lvl=eror msg=\"failed to reconnect session\" obj=tunnels.session obj=csess id=51b0fe54dcb1 err=\"failed to dial ngrok server with address \\\"tunnel.us.ngrok.com:443\\\": dial tcp: lookup tunnel.us.ngrok.com: no such host\"\n",
      "t=2023-09-12T17:24:37-0700 lvl=eror msg=\"failed to reconnect session\" obj=tunnels.session obj=csess id=51b0fe54dcb1 err=\"failed to dial ngrok server with address \\\"tunnel.us.ngrok.com:443\\\": dial tcp: lookup tunnel.us.ngrok.com: no such host\"\n",
      "t=2023-09-12T17:24:53-0700 lvl=eror msg=\"failed to reconnect session\" obj=tunnels.session obj=csess id=51b0fe54dcb1 err=\"failed to dial ngrok server with address \\\"tunnel.us.ngrok.com:443\\\": dial tcp: lookup tunnel.us.ngrok.com: no such host\"\n",
      "t=2023-09-12T18:17:10-0700 lvl=eror msg=\"failed to reconnect session\" obj=tunnels.session obj=csess id=51b0fe54dcb1 err=\"failed to dial ngrok server with address \\\"tunnel.us.ngrok.com:443\\\": dial tcp: lookup tunnel.us.ngrok.com: no such host\"\n",
      "t=2023-09-12T18:51:04-0700 lvl=eror msg=\"failed to reconnect session\" obj=tunnels.session obj=csess id=51b0fe54dcb1 err=\"failed to dial ngrok server with address \\\"tunnel.us.ngrok.com:443\\\": dial tcp: lookup tunnel.us.ngrok.com: no such host\"\n",
      "t=2023-09-12T18:51:34-0700 lvl=eror msg=\"failed to reconnect session\" obj=tunnels.session obj=csess id=51b0fe54dcb1 err=\"failed to dial ngrok server with address \\\"tunnel.us.ngrok.com:443\\\": dial tcp: lookup tunnel.us.ngrok.com: no such host\"\n",
      "t=2023-09-12T18:52:04-0700 lvl=eror msg=\"failed to reconnect session\" obj=tunnels.session obj=csess id=51b0fe54dcb1 err=\"failed to dial ngrok server with address \\\"tunnel.us.ngrok.com:443\\\": dial tcp: lookup tunnel.us.ngrok.com: no such host\"\n",
      "t=2023-09-12T18:52:34-0700 lvl=eror msg=\"failed to reconnect session\" obj=tunnels.session obj=csess id=51b0fe54dcb1 err=\"failed to dial ngrok server with address \\\"tunnel.us.ngrok.com:443\\\": dial tcp: lookup tunnel.us.ngrok.com: no such host\"\n",
      "t=2023-09-12T18:53:04-0700 lvl=eror msg=\"failed to reconnect session\" obj=tunnels.session obj=csess id=51b0fe54dcb1 err=\"failed to dial ngrok server with address \\\"tunnel.us.ngrok.com:443\\\": dial tcp: lookup tunnel.us.ngrok.com: no such host\"\n",
      "t=2023-09-12T18:53:34-0700 lvl=eror msg=\"failed to reconnect session\" obj=tunnels.session obj=csess id=51b0fe54dcb1 err=\"failed to dial ngrok server with address \\\"tunnel.us.ngrok.com:443\\\": dial tcp: lookup tunnel.us.ngrok.com: no such host\"\n",
      "t=2023-09-12T18:54:04-0700 lvl=eror msg=\"failed to reconnect session\" obj=tunnels.session obj=csess id=51b0fe54dcb1 err=\"failed to dial ngrok server with address \\\"tunnel.us.ngrok.com:443\\\": dial tcp: lookup tunnel.us.ngrok.com: no such host\"\n",
      "t=2023-09-12T18:54:34-0700 lvl=eror msg=\"failed to reconnect session\" obj=tunnels.session obj=csess id=51b0fe54dcb1 err=\"failed to dial ngrok server with address \\\"tunnel.us.ngrok.com:443\\\": dial tcp: lookup tunnel.us.ngrok.com: no such host\"\n",
      "t=2023-09-12T18:55:04-0700 lvl=eror msg=\"failed to reconnect session\" obj=tunnels.session obj=csess id=51b0fe54dcb1 err=\"failed to dial ngrok server with address \\\"tunnel.us.ngrok.com:443\\\": dial tcp: lookup tunnel.us.ngrok.com: no such host\"\n",
      "t=2023-09-12T18:55:34-0700 lvl=eror msg=\"failed to reconnect session\" obj=tunnels.session obj=csess id=51b0fe54dcb1 err=\"failed to dial ngrok server with address \\\"tunnel.us.ngrok.com:443\\\": dial tcp: lookup tunnel.us.ngrok.com: no such host\"\n",
      "t=2023-09-12T18:56:04-0700 lvl=eror msg=\"failed to reconnect session\" obj=tunnels.session obj=csess id=51b0fe54dcb1 err=\"failed to dial ngrok server with address \\\"tunnel.us.ngrok.com:443\\\": dial tcp: lookup tunnel.us.ngrok.com: no such host\"\n",
      "t=2023-09-12T18:56:34-0700 lvl=eror msg=\"failed to reconnect session\" obj=tunnels.session obj=csess id=51b0fe54dcb1 err=\"failed to dial ngrok server with address \\\"tunnel.us.ngrok.com:443\\\": dial tcp: lookup tunnel.us.ngrok.com: no such host\"\n",
      "t=2023-09-12T18:57:04-0700 lvl=eror msg=\"failed to reconnect session\" obj=tunnels.session obj=csess id=51b0fe54dcb1 err=\"failed to dial ngrok server with address \\\"tunnel.us.ngrok.com:443\\\": dial tcp: lookup tunnel.us.ngrok.com: no such host\"\n",
      "t=2023-09-12T18:57:34-0700 lvl=eror msg=\"failed to reconnect session\" obj=tunnels.session obj=csess id=51b0fe54dcb1 err=\"failed to dial ngrok server with address \\\"tunnel.us.ngrok.com:443\\\": dial tcp: lookup tunnel.us.ngrok.com: no such host\"\n",
      "t=2023-09-12T18:58:04-0700 lvl=eror msg=\"failed to reconnect session\" obj=tunnels.session obj=csess id=51b0fe54dcb1 err=\"failed to dial ngrok server with address \\\"tunnel.us.ngrok.com:443\\\": dial tcp: lookup tunnel.us.ngrok.com: no such host\"\n",
      "t=2023-09-12T18:58:34-0700 lvl=eror msg=\"failed to reconnect session\" obj=tunnels.session obj=csess id=51b0fe54dcb1 err=\"failed to dial ngrok server with address \\\"tunnel.us.ngrok.com:443\\\": dial tcp: lookup tunnel.us.ngrok.com: no such host\"\n",
      "t=2023-09-12T18:59:04-0700 lvl=eror msg=\"failed to reconnect session\" obj=tunnels.session obj=csess id=51b0fe54dcb1 err=\"failed to dial ngrok server with address \\\"tunnel.us.ngrok.com:443\\\": dial tcp: lookup tunnel.us.ngrok.com: no such host\"\n",
      "t=2023-09-12T18:59:34-0700 lvl=eror msg=\"failed to reconnect session\" obj=tunnels.session obj=csess id=51b0fe54dcb1 err=\"failed to dial ngrok server with address \\\"tunnel.us.ngrok.com:443\\\": dial tcp: lookup tunnel.us.ngrok.com: no such host\"\n",
      "t=2023-09-12T19:00:04-0700 lvl=eror msg=\"failed to reconnect session\" obj=tunnels.session obj=csess id=51b0fe54dcb1 err=\"failed to dial ngrok server with address \\\"tunnel.us.ngrok.com:443\\\": dial tcp: lookup tunnel.us.ngrok.com: no such host\"\n",
      "t=2023-09-12T19:00:34-0700 lvl=eror msg=\"failed to reconnect session\" obj=tunnels.session obj=csess id=51b0fe54dcb1 err=\"failed to dial ngrok server with address \\\"tunnel.us.ngrok.com:443\\\": dial tcp: lookup tunnel.us.ngrok.com: no such host\"\n",
      "t=2023-09-12T19:01:04-0700 lvl=eror msg=\"failed to reconnect session\" obj=tunnels.session obj=csess id=51b0fe54dcb1 err=\"failed to dial ngrok server with address \\\"tunnel.us.ngrok.com:443\\\": dial tcp: lookup tunnel.us.ngrok.com: no such host\"\n",
      "t=2023-09-12T19:01:34-0700 lvl=eror msg=\"failed to reconnect session\" obj=tunnels.session obj=csess id=51b0fe54dcb1 err=\"failed to dial ngrok server with address \\\"tunnel.us.ngrok.com:443\\\": dial tcp: lookup tunnel.us.ngrok.com: no such host\"\n",
      "t=2023-09-12T19:02:04-0700 lvl=eror msg=\"failed to reconnect session\" obj=tunnels.session obj=csess id=51b0fe54dcb1 err=\"failed to dial ngrok server with address \\\"tunnel.us.ngrok.com:443\\\": dial tcp: lookup tunnel.us.ngrok.com: no such host\"\n",
      "t=2023-09-12T19:02:34-0700 lvl=eror msg=\"failed to reconnect session\" obj=tunnels.session obj=csess id=51b0fe54dcb1 err=\"failed to dial ngrok server with address \\\"tunnel.us.ngrok.com:443\\\": dial tcp: lookup tunnel.us.ngrok.com: no such host\"\n",
      "t=2023-09-12T19:03:04-0700 lvl=eror msg=\"failed to reconnect session\" obj=tunnels.session obj=csess id=51b0fe54dcb1 err=\"failed to dial ngrok server with address \\\"tunnel.us.ngrok.com:443\\\": dial tcp: lookup tunnel.us.ngrok.com: no such host\"\n",
      "t=2023-09-12T19:03:34-0700 lvl=eror msg=\"failed to reconnect session\" obj=tunnels.session obj=csess id=51b0fe54dcb1 err=\"failed to dial ngrok server with address \\\"tunnel.us.ngrok.com:443\\\": dial tcp: lookup tunnel.us.ngrok.com: no such host\"\n",
      "t=2023-09-12T19:04:04-0700 lvl=eror msg=\"failed to reconnect session\" obj=tunnels.session obj=csess id=51b0fe54dcb1 err=\"failed to dial ngrok server with address \\\"tunnel.us.ngrok.com:443\\\": dial tcp: lookup tunnel.us.ngrok.com: no such host\"\n",
      "t=2023-09-12T19:04:34-0700 lvl=eror msg=\"failed to reconnect session\" obj=tunnels.session obj=csess id=51b0fe54dcb1 err=\"failed to dial ngrok server with address \\\"tunnel.us.ngrok.com:443\\\": dial tcp: lookup tunnel.us.ngrok.com: no such host\"\n",
      "t=2023-09-12T19:05:04-0700 lvl=eror msg=\"failed to reconnect session\" obj=tunnels.session obj=csess id=51b0fe54dcb1 err=\"failed to dial ngrok server with address \\\"tunnel.us.ngrok.com:443\\\": dial tcp: lookup tunnel.us.ngrok.com: no such host\"\n",
      "t=2023-09-12T19:05:34-0700 lvl=eror msg=\"failed to reconnect session\" obj=tunnels.session obj=csess id=51b0fe54dcb1 err=\"failed to dial ngrok server with address \\\"tunnel.us.ngrok.com:443\\\": dial tcp: lookup tunnel.us.ngrok.com: no such host\"\n",
      "t=2023-09-12T19:06:04-0700 lvl=eror msg=\"failed to reconnect session\" obj=tunnels.session obj=csess id=51b0fe54dcb1 err=\"failed to dial ngrok server with address \\\"tunnel.us.ngrok.com:443\\\": dial tcp: lookup tunnel.us.ngrok.com: no such host\"\n",
      "t=2023-09-12T19:06:34-0700 lvl=eror msg=\"failed to reconnect session\" obj=tunnels.session obj=csess id=51b0fe54dcb1 err=\"failed to dial ngrok server with address \\\"tunnel.us.ngrok.com:443\\\": dial tcp: lookup tunnel.us.ngrok.com: no such host\"\n",
      "t=2023-09-12T19:07:04-0700 lvl=eror msg=\"failed to reconnect session\" obj=tunnels.session obj=csess id=51b0fe54dcb1 err=\"failed to dial ngrok server with address \\\"tunnel.us.ngrok.com:443\\\": dial tcp: lookup tunnel.us.ngrok.com: no such host\"\n",
      "t=2023-09-12T19:07:34-0700 lvl=eror msg=\"failed to reconnect session\" obj=tunnels.session obj=csess id=51b0fe54dcb1 err=\"failed to dial ngrok server with address \\\"tunnel.us.ngrok.com:443\\\": dial tcp: lookup tunnel.us.ngrok.com: no such host\"\n",
      "t=2023-09-12T19:08:04-0700 lvl=eror msg=\"failed to reconnect session\" obj=tunnels.session obj=csess id=51b0fe54dcb1 err=\"failed to dial ngrok server with address \\\"tunnel.us.ngrok.com:443\\\": dial tcp: lookup tunnel.us.ngrok.com: no such host\"\n",
      "t=2023-09-12T19:08:34-0700 lvl=eror msg=\"failed to reconnect session\" obj=tunnels.session obj=csess id=51b0fe54dcb1 err=\"failed to dial ngrok server with address \\\"tunnel.us.ngrok.com:443\\\": dial tcp: lookup tunnel.us.ngrok.com: no such host\"\n",
      "t=2023-09-12T19:09:04-0700 lvl=eror msg=\"failed to reconnect session\" obj=tunnels.session obj=csess id=51b0fe54dcb1 err=\"failed to dial ngrok server with address \\\"tunnel.us.ngrok.com:443\\\": dial tcp: lookup tunnel.us.ngrok.com: no such host\"\n",
      "t=2023-09-12T19:09:34-0700 lvl=eror msg=\"failed to reconnect session\" obj=tunnels.session obj=csess id=51b0fe54dcb1 err=\"failed to dial ngrok server with address \\\"tunnel.us.ngrok.com:443\\\": dial tcp: lookup tunnel.us.ngrok.com: no such host\"\n",
      "t=2023-09-12T19:10:04-0700 lvl=eror msg=\"failed to reconnect session\" obj=tunnels.session obj=csess id=51b0fe54dcb1 err=\"failed to dial ngrok server with address \\\"tunnel.us.ngrok.com:443\\\": dial tcp: lookup tunnel.us.ngrok.com: no such host\"\n",
      "t=2023-09-12T19:10:34-0700 lvl=eror msg=\"failed to reconnect session\" obj=tunnels.session obj=csess id=51b0fe54dcb1 err=\"failed to dial ngrok server with address \\\"tunnel.us.ngrok.com:443\\\": dial tcp: lookup tunnel.us.ngrok.com: no such host\"\n",
      "t=2023-09-12T19:11:04-0700 lvl=eror msg=\"failed to reconnect session\" obj=tunnels.session obj=csess id=51b0fe54dcb1 err=\"failed to dial ngrok server with address \\\"tunnel.us.ngrok.com:443\\\": dial tcp: lookup tunnel.us.ngrok.com: no such host\"\n",
      "t=2023-09-12T19:11:34-0700 lvl=eror msg=\"failed to reconnect session\" obj=tunnels.session obj=csess id=51b0fe54dcb1 err=\"failed to dial ngrok server with address \\\"tunnel.us.ngrok.com:443\\\": dial tcp: lookup tunnel.us.ngrok.com: no such host\"\n",
      "t=2023-09-12T19:12:04-0700 lvl=eror msg=\"failed to reconnect session\" obj=tunnels.session obj=csess id=51b0fe54dcb1 err=\"failed to dial ngrok server with address \\\"tunnel.us.ngrok.com:443\\\": dial tcp: lookup tunnel.us.ngrok.com: no such host\"\n",
      "t=2023-09-12T19:12:34-0700 lvl=eror msg=\"failed to reconnect session\" obj=tunnels.session obj=csess id=51b0fe54dcb1 err=\"failed to dial ngrok server with address \\\"tunnel.us.ngrok.com:443\\\": dial tcp: lookup tunnel.us.ngrok.com: no such host\"\n",
      "t=2023-09-12T19:13:04-0700 lvl=eror msg=\"failed to reconnect session\" obj=tunnels.session obj=csess id=51b0fe54dcb1 err=\"failed to dial ngrok server with address \\\"tunnel.us.ngrok.com:443\\\": dial tcp: lookup tunnel.us.ngrok.com: no such host\"\n",
      "t=2023-09-12T19:13:34-0700 lvl=eror msg=\"failed to reconnect session\" obj=tunnels.session obj=csess id=51b0fe54dcb1 err=\"failed to dial ngrok server with address \\\"tunnel.us.ngrok.com:443\\\": dial tcp: lookup tunnel.us.ngrok.com: no such host\"\n",
      "t=2023-09-12T19:14:04-0700 lvl=eror msg=\"failed to reconnect session\" obj=tunnels.session obj=csess id=51b0fe54dcb1 err=\"failed to dial ngrok server with address \\\"tunnel.us.ngrok.com:443\\\": dial tcp: lookup tunnel.us.ngrok.com: no such host\"\n",
      "t=2023-09-12T19:14:34-0700 lvl=eror msg=\"failed to reconnect session\" obj=tunnels.session obj=csess id=51b0fe54dcb1 err=\"failed to dial ngrok server with address \\\"tunnel.us.ngrok.com:443\\\": dial tcp: lookup tunnel.us.ngrok.com: no such host\"\n",
      "t=2023-09-12T19:15:04-0700 lvl=eror msg=\"failed to reconnect session\" obj=tunnels.session obj=csess id=51b0fe54dcb1 err=\"failed to dial ngrok server with address \\\"tunnel.us.ngrok.com:443\\\": dial tcp: lookup tunnel.us.ngrok.com: no such host\"\n",
      "t=2023-09-12T19:15:34-0700 lvl=eror msg=\"failed to reconnect session\" obj=tunnels.session obj=csess id=51b0fe54dcb1 err=\"failed to dial ngrok server with address \\\"tunnel.us.ngrok.com:443\\\": dial tcp: lookup tunnel.us.ngrok.com: no such host\"\n",
      "t=2023-09-12T19:16:04-0700 lvl=eror msg=\"failed to reconnect session\" obj=tunnels.session obj=csess id=51b0fe54dcb1 err=\"failed to dial ngrok server with address \\\"tunnel.us.ngrok.com:443\\\": dial tcp: lookup tunnel.us.ngrok.com: no such host\"\n",
      "t=2023-09-12T19:16:34-0700 lvl=eror msg=\"failed to reconnect session\" obj=tunnels.session obj=csess id=51b0fe54dcb1 err=\"failed to dial ngrok server with address \\\"tunnel.us.ngrok.com:443\\\": dial tcp: lookup tunnel.us.ngrok.com: no such host\"\n",
      "t=2023-09-12T19:17:04-0700 lvl=eror msg=\"failed to reconnect session\" obj=tunnels.session obj=csess id=51b0fe54dcb1 err=\"failed to dial ngrok server with address \\\"tunnel.us.ngrok.com:443\\\": dial tcp: lookup tunnel.us.ngrok.com: no such host\"\n"
     ]
    }
   ],
   "source": [
    "app = Application(debug=False, share=False)\n",
    "app.add_component(chatbot)\n",
    "app.add_component(qa_dashboard)\n",
    "app.run()\n"
   ]
  },
  {
   "cell_type": "markdown",
   "metadata": {},
   "source": [
    "You will only see one localhost link after you run the `app.run()` below. If you are on EC2 or a remote server, you can tunnel it back to your laptop via the following options:\n",
    "\n",
    "- If you are using VSCode, check [tunnel using VSCode](https://code.visualstudio.com/docs/remote/ssh#_forwarding-a-port-creating-ssh-tunnel);\n",
    "- [Directly config via EC2](https://www.opensourceforu.com/2021/09/how-to-do-reverse-tunnelling-with-the-amazon-ec2-instance/)"
   ]
  },
  {
   "cell_type": "markdown",
   "metadata": {},
   "source": [
    "Now we can launch the dashboard. Click this above link and you can see the below interface:\n",
    "\n",
    "<p align=\"center\">\n",
    "    <img src=\"../image/chatbot_dashboard_trim_2x.gif\" width=\"75%\" height=\"75%\" />\n",
    "</p>"
   ]
  }
 ],
 "metadata": {
  "kernelspec": {
   "display_name": "0826",
   "language": "python",
   "name": "python3"
  },
  "language_info": {
   "codemirror_mode": {
    "name": "ipython",
    "version": 3
   },
   "file_extension": ".py",
   "mimetype": "text/x-python",
   "name": "python",
   "nbconvert_exporter": "python",
   "pygments_lexer": "ipython3",
   "version": "3.10.13"
  }
 },
 "nbformat": 4,
 "nbformat_minor": 2
}
