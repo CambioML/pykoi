{
 "cells": [
  {
   "cell_type": "code",
   "execution_count": 1,
   "metadata": {},
   "outputs": [],
   "source": [
    "# %reload_ext autoreload\n",
    "# %autoreload 2\n",
    "\n",
    "# import os\n",
    "# import sys\n",
    "\n",
    "# # Add the root folder to the module search path\n",
    "# # Get the current directory\n",
    "# current_directory = os.getcwd()\n",
    "\n",
    "# # Move two levels up (go to the parent directory of the parent directory)\n",
    "# two_levels_up_directory = os.path.dirname(os.path.dirname(current_directory))\n",
    "\n",
    "# print(two_levels_up_directory)\n",
    "\n",
    "# sys.path.append(two_levels_up_directory)"
   ]
  },
  {
   "cell_type": "code",
   "execution_count": 2,
   "metadata": {},
   "outputs": [
    {
     "name": "stderr",
     "output_type": "stream",
     "text": [
      "/home/ubuntu/miniconda3/envs/pykoi/lib/python3.10/site-packages/tqdm/auto.py:21: TqdmWarning: IProgress not found. Please update jupyter and ipywidgets. See https://ipywidgets.readthedocs.io/en/stable/user_install.html\n",
      "  from .autonotebook import tqdm as notebook_tqdm\n"
     ]
    }
   ],
   "source": [
    "import pandas as pd\n",
    "from pykoi.rlhf import RLHFConfig\n",
    "from pykoi.rlhf import RewardFinetuning\n",
    "from pykoi.chat import RankingDatabase"
   ]
  },
  {
   "cell_type": "markdown",
   "metadata": {},
   "source": [
    "### Train RLHF using the data from database\n",
    "\n",
    "Let's take a look of the QA data and process it for training."
   ]
  },
  {
   "cell_type": "code",
   "execution_count": 3,
   "metadata": {},
   "outputs": [
    {
     "data": {
      "text/html": [
       "<div>\n",
       "<style scoped>\n",
       "    .dataframe tbody tr th:only-of-type {\n",
       "        vertical-align: middle;\n",
       "    }\n",
       "\n",
       "    .dataframe tbody tr th {\n",
       "        vertical-align: top;\n",
       "    }\n",
       "\n",
       "    .dataframe thead th {\n",
       "        text-align: right;\n",
       "    }\n",
       "</style>\n",
       "<table border=\"1\" class=\"dataframe\">\n",
       "  <thead>\n",
       "    <tr style=\"text-align: right;\">\n",
       "      <th></th>\n",
       "      <th>question</th>\n",
       "      <th>up_ranking_answer</th>\n",
       "      <th>low_ranking_answer</th>\n",
       "    </tr>\n",
       "    <tr>\n",
       "      <th>id</th>\n",
       "      <th></th>\n",
       "      <th></th>\n",
       "      <th></th>\n",
       "    </tr>\n",
       "  </thead>\n",
       "  <tbody>\n",
       "    <tr>\n",
       "      <th>1</th>\n",
       "      <td>who are u?</td>\n",
       "      <td>Unemployed</td>\n",
       "      <td>I'm a girl</td>\n",
       "    </tr>\n",
       "    <tr>\n",
       "      <th>2</th>\n",
       "      <td>what is the weather today?</td>\n",
       "      <td>it is rainy today</td>\n",
       "      <td>The weather today is sunny with a high of 75 ...</td>\n",
       "    </tr>\n",
       "    <tr>\n",
       "      <th>3</th>\n",
       "      <td>who are u?</td>\n",
       "      <td>Unemployed</td>\n",
       "      <td>I'm a girl</td>\n",
       "    </tr>\n",
       "    <tr>\n",
       "      <th>4</th>\n",
       "      <td>what is the weather today?</td>\n",
       "      <td>it is rainy today</td>\n",
       "      <td>The weather today is sunny with a high of 75 ...</td>\n",
       "    </tr>\n",
       "    <tr>\n",
       "      <th>5</th>\n",
       "      <td>how are u?</td>\n",
       "      <td>i am fine</td>\n",
       "      <td>I'm fine</td>\n",
       "    </tr>\n",
       "  </tbody>\n",
       "</table>\n",
       "</div>"
      ],
      "text/plain": [
       "                      question   up_ranking_answer  \\\n",
       "id                                                   \n",
       "1                   who are u?          Unemployed   \n",
       "2   what is the weather today?   it is rainy today   \n",
       "3                   who are u?          Unemployed   \n",
       "4   what is the weather today?   it is rainy today   \n",
       "5                   how are u?           i am fine   \n",
       "\n",
       "                                   low_ranking_answer  \n",
       "id                                                     \n",
       "1                                          I'm a girl  \n",
       "2    The weather today is sunny with a high of 75 ...  \n",
       "3                                          I'm a girl  \n",
       "4    The weather today is sunny with a high of 75 ...  \n",
       "5                                            I'm fine  "
      ]
     },
     "execution_count": 3,
     "metadata": {},
     "output_type": "execute_result"
    }
   ],
   "source": [
    "stack_exchange_df = pd.read_csv(\"ranking.csv\", index_col=0)\n",
    "stack_exchange_df.head()"
   ]
  },
  {
   "cell_type": "code",
   "execution_count": 4,
   "metadata": {},
   "outputs": [
    {
     "name": "stdout",
     "output_type": "stream",
     "text": [
      "My ranking database has 30 samples\n"
     ]
    },
    {
     "data": {
      "text/plain": [
       "Dataset({\n",
       "    features: ['question', 'up_ranking_answer', 'low_ranking_answer'],\n",
       "    num_rows: 30\n",
       "})"
      ]
     },
     "execution_count": 4,
     "metadata": {},
     "output_type": "execute_result"
    }
   ],
   "source": [
    "from datasets import Dataset\n",
    "\n",
    "print(\"My ranking database has {} samples\".format(stack_exchange_df.shape[0]))\n",
    "dataset = Dataset.from_dict(stack_exchange_df)\n",
    "dataset"
   ]
  },
  {
   "cell_type": "code",
   "execution_count": 5,
   "metadata": {},
   "outputs": [],
   "source": [
    "RANKING_CSV_HEADER_ID = 'id'\n",
    "RANKING_CSV_HEADER_QUESTION = 'question'\n",
    "RANKING_CSV_HEADER_UP_RANKING_ANSWER = 'up_ranking_answer'\n",
    "RANKING_CSV_HEADER_LOW_RANKING_ANSWER = 'low_ranking_answer'\n",
    "RANKING_CSV_HEADER = (\n",
    "    RANKING_CSV_HEADER_ID,\n",
    "    RANKING_CSV_HEADER_QUESTION,\n",
    "    RANKING_CSV_HEADER_UP_RANKING_ANSWER,\n",
    "    RANKING_CSV_HEADER_LOW_RANKING_ANSWER\n",
    ")"
   ]
  },
  {
   "cell_type": "code",
   "execution_count": 6,
   "metadata": {},
   "outputs": [
    {
     "data": {
      "text/plain": [
       "<pykoi.chat.db.ranking_database.RankingDatabase at 0x7fb8d7e090f0>"
      ]
     },
     "execution_count": 6,
     "metadata": {},
     "output_type": "execute_result"
    }
   ],
   "source": [
    "ranking_database = RankingDatabase()\n",
    "for row in stack_exchange_df.iloc[:].to_dict('records'):\n",
    "    ranking_id = ranking_database.insert_ranking(question=row[RANKING_CSV_HEADER_QUESTION],\n",
    "                                       up_ranking_answer=row[RANKING_CSV_HEADER_UP_RANKING_ANSWER],\n",
    "                                       low_ranking_answer=row[RANKING_CSV_HEADER_LOW_RANKING_ANSWER]\n",
    "                                       )\n",
    "ranking_database"
   ]
  },
  {
   "cell_type": "code",
   "execution_count": 7,
   "metadata": {},
   "outputs": [
    {
     "data": {
      "text/html": [
       "<div>\n",
       "<style scoped>\n",
       "    .dataframe tbody tr th:only-of-type {\n",
       "        vertical-align: middle;\n",
       "    }\n",
       "\n",
       "    .dataframe tbody tr th {\n",
       "        vertical-align: top;\n",
       "    }\n",
       "\n",
       "    .dataframe thead th {\n",
       "        text-align: right;\n",
       "    }\n",
       "</style>\n",
       "<table border=\"1\" class=\"dataframe\">\n",
       "  <thead>\n",
       "    <tr style=\"text-align: right;\">\n",
       "      <th></th>\n",
       "      <th>ID</th>\n",
       "      <th>Question</th>\n",
       "      <th>Up Ranking Answer</th>\n",
       "      <th>Low Ranking Answer</th>\n",
       "    </tr>\n",
       "  </thead>\n",
       "  <tbody>\n",
       "    <tr>\n",
       "      <th>0</th>\n",
       "      <td>1</td>\n",
       "      <td>who are u?</td>\n",
       "      <td>Unemployed</td>\n",
       "      <td>I'm a girl</td>\n",
       "    </tr>\n",
       "    <tr>\n",
       "      <th>1</th>\n",
       "      <td>2</td>\n",
       "      <td>what is the weather today?</td>\n",
       "      <td>it is rainy today</td>\n",
       "      <td>The weather today is sunny with a high of 75 ...</td>\n",
       "    </tr>\n",
       "    <tr>\n",
       "      <th>2</th>\n",
       "      <td>3</td>\n",
       "      <td>who are u?</td>\n",
       "      <td>Unemployed</td>\n",
       "      <td>I'm a girl</td>\n",
       "    </tr>\n",
       "    <tr>\n",
       "      <th>3</th>\n",
       "      <td>4</td>\n",
       "      <td>what is the weather today?</td>\n",
       "      <td>it is rainy today</td>\n",
       "      <td>The weather today is sunny with a high of 75 ...</td>\n",
       "    </tr>\n",
       "    <tr>\n",
       "      <th>4</th>\n",
       "      <td>5</td>\n",
       "      <td>how are u?</td>\n",
       "      <td>i am fine</td>\n",
       "      <td>I'm fine</td>\n",
       "    </tr>\n",
       "  </tbody>\n",
       "</table>\n",
       "</div>"
      ],
      "text/plain": [
       "   ID                    Question   Up Ranking Answer  \\\n",
       "0   1                  who are u?          Unemployed   \n",
       "1   2  what is the weather today?   it is rainy today   \n",
       "2   3                  who are u?          Unemployed   \n",
       "3   4  what is the weather today?   it is rainy today   \n",
       "4   5                  how are u?           i am fine   \n",
       "\n",
       "                                  Low Ranking Answer  \n",
       "0                                         I'm a girl  \n",
       "1   The weather today is sunny with a high of 75 ...  \n",
       "2                                         I'm a girl  \n",
       "3   The weather today is sunny with a high of 75 ...  \n",
       "4                                           I'm fine  "
      ]
     },
     "execution_count": 7,
     "metadata": {},
     "output_type": "execute_result"
    }
   ],
   "source": [
    "my_data_pd = ranking_database.retrieve_all_question_answers_as_pandas()\n",
    "my_data_pd.head()"
   ]
  },
  {
   "cell_type": "code",
   "execution_count": 8,
   "metadata": {},
   "outputs": [
    {
     "name": "stdout",
     "output_type": "stream",
     "text": [
      "My local database has 60 samples\n"
     ]
    },
    {
     "data": {
      "text/plain": [
       "Dataset({\n",
       "    features: ['ID', 'Question', 'Up Ranking Answer', 'Low Ranking Answer'],\n",
       "    num_rows: 60\n",
       "})"
      ]
     },
     "execution_count": 8,
     "metadata": {},
     "output_type": "execute_result"
    }
   ],
   "source": [
    "from datasets import Dataset\n",
    "\n",
    "my_data_pd = my_data_pd[[\"ID\",\n",
    "                        \"Question\",\n",
    "                        \"Up Ranking Answer\",\n",
    "                        \"Low Ranking Answer\"]]\n",
    "print(\"My local database has {} samples\".format(my_data_pd.shape[0]))\n",
    "dataset = Dataset.from_dict(my_data_pd)\n",
    "dataset"
   ]
  },
  {
   "cell_type": "markdown",
   "metadata": {},
   "source": [
    "### Train with RLHF"
   ]
  },
  {
   "cell_type": "code",
   "execution_count": 9,
   "metadata": {},
   "outputs": [
    {
     "name": "stderr",
     "output_type": "stream",
     "text": [
      "Some weights of GPTNeoXForSequenceClassification were not initialized from the model checkpoint at databricks/dolly-v2-3b and are newly initialized: ['score.weight']\n",
      "You should probably TRAIN this model on a down-stream task to be able to use it for predictions and inference.\n",
      "Parameter 'function'=<bound method RewardFinetuning._preprocess_function of <pykoi.rlhf.rw_finetuning.RewardFinetuning object at 0x7fbb3af82950>> of the transform datasets.arrow_dataset.Dataset._map_single couldn't be hashed properly, a random hash was used instead. Make sure your transforms and parameters are serializable with pickle or dill for the dataset fingerprinting and caching to work. If you reuse this transform, the caching mechanism will consider it to be different from the previous calls and recompute everything. This warning is only showed once. Subsequent hashing failures won't be showed.\n"
     ]
    },
    {
     "name": "stdout",
     "output_type": "stream",
     "text": [
      "trainable params: 5,248,000 || all params: 2,651,617,280 || trainable%: 0.19791694825582068\n",
      "My local database has 60 samples for RW finetuning\n"
     ]
    },
    {
     "name": "stderr",
     "output_type": "stream",
     "text": [
      "Map:   0%|          | 0/60 [00:00<?, ? examples/s]Asking to truncate to max_length but no maximum length is provided and the model has no predefined maximum length. Default to no truncation.\n",
      "                                                     "
     ]
    },
    {
     "name": "stdout",
     "output_type": "stream",
     "text": [
      "Size of the train set: 54.                 Size of the validation set: 6\n"
     ]
    },
    {
     "name": "stderr",
     "output_type": "stream",
     "text": [
      "/home/ubuntu/miniconda3/envs/pykoi/lib/python3.10/site-packages/transformers/optimization.py:411: FutureWarning: This implementation of AdamW is deprecated and will be removed in a future version. Use the PyTorch implementation torch.optim.AdamW instead, or set `no_deprecation_warning=True` to disable this warning\n",
      "  warnings.warn(\n",
      "You're using a GPTNeoXTokenizerFast tokenizer. Please note that with a fast tokenizer, using the `__call__` method is faster than using a method to encode the text followed by a call to the `pad` method to get a padded encoding.\n",
      "/home/ubuntu/miniconda3/envs/pykoi/lib/python3.10/site-packages/transformers/tokenization_utils_base.py:2411: UserWarning: `max_length` is ignored when `padding`=`True` and there is no truncation strategy. To pad to max length, use `padding='max_length'`.\n",
      "  warnings.warn(\n",
      "Could not estimate the number of tokens of the input, floating-point operations will not be computed\n"
     ]
    },
    {
     "data": {
      "text/html": [
       "\n",
       "    <div>\n",
       "      \n",
       "      <progress value='10' max='10' style='width:300px; height:20px; vertical-align: middle;'></progress>\n",
       "      [10/10 00:23, Epoch 5/10]\n",
       "    </div>\n",
       "    <table border=\"1\" class=\"dataframe\">\n",
       "  <thead>\n",
       " <tr style=\"text-align: left;\">\n",
       "      <th>Step</th>\n",
       "      <th>Training Loss</th>\n",
       "      <th>Validation Loss</th>\n",
       "      <th>Accuracy</th>\n",
       "    </tr>\n",
       "  </thead>\n",
       "  <tbody>\n",
       "    <tr>\n",
       "      <td>10</td>\n",
       "      <td>0.821100</td>\n",
       "      <td>0.495117</td>\n",
       "      <td>0.666667</td>\n",
       "    </tr>\n",
       "  </tbody>\n",
       "</table><p>"
      ],
      "text/plain": [
       "<IPython.core.display.HTML object>"
      ]
     },
     "metadata": {},
     "output_type": "display_data"
    }
   ],
   "source": [
    "# run supervised finetuning\n",
    "config = RLHFConfig(base_model_path=\"databricks/dolly-v2-3b\", \n",
    "                          dataset_type=\"local_db\",\n",
    "                          )\n",
    "rlhf_step2_rft = RewardFinetuning(config)\n",
    "rlhf_step2_rft.train_and_save(\"./models/rlhf_step2_rw\")\n"
   ]
  }
 ],
 "metadata": {
  "kernelspec": {
   "display_name": "pykoi",
   "language": "python",
   "name": "python3"
  },
  "language_info": {
   "codemirror_mode": {
    "name": "ipython",
    "version": 3
   },
   "file_extension": ".py",
   "mimetype": "text/x-python",
   "name": "python",
   "nbconvert_exporter": "python",
   "pygments_lexer": "ipython3",
   "version": "3.10.12"
  },
  "orig_nbformat": 4
 },
 "nbformat": 4,
 "nbformat_minor": 2
}
